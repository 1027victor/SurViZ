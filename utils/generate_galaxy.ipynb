{
 "cells": [
  {
   "cell_type": "code",
   "execution_count": 1,
   "metadata": {},
   "outputs": [],
   "source": [
    "import matplotlib.pyplot as plt\n",
    "import numpy as np\n",
    "import galsim\n",
    "from astropy.io import fits\n",
    "from utils import create_psf\n",
    "import glob\n",
    "import requests\n",
    "from scipy.signal import convolve2d\n",
    "import cv2"
   ]
  },
  {
   "cell_type": "code",
   "execution_count": 3,
   "metadata": {},
   "outputs": [],
   "source": [
    "def create_gal(pxscale, fwhm, noise_level, show=False):\n",
    "    img = np.load('./data/tng_gal.npy')[10:-1, 10:-10]\n",
    "    s = int(237 * 0.03/pxscale)\n",
    "    size = (s, s)\n",
    "    psf = create_psf(fwhm, pxscale)\n",
    "    psfed = convolve2d(img, psf, mode='same')\n",
    "    res = cv2.resize(psfed, dsize=size, interpolation=cv2.INTER_CUBIC)\n",
    "\n",
    "    noisy = res/1000+np.random.normal(0, noise_level, size)\n",
    "    if show:\n",
    "        plt.figure()\n",
    "        plt.imshow(noisy, cmap='bone')\n",
    "    return noisy"
   ]
  },
  {
   "cell_type": "code",
   "execution_count": null,
   "metadata": {},
   "outputs": [],
   "source": [
    "img = create_gal(0.4, 1.2)"
   ]
  }
 ],
 "metadata": {
  "kernelspec": {
   "display_name": "Python 3.7.5 64-bit ('tf2')",
   "language": "python",
   "name": "python3"
  },
  "language_info": {
   "codemirror_mode": {
    "name": "ipython",
    "version": 3
   },
   "file_extension": ".py",
   "mimetype": "text/x-python",
   "name": "python",
   "nbconvert_exporter": "python",
   "pygments_lexer": "ipython3",
   "version": "3.7.5"
  },
  "orig_nbformat": 4,
  "vscode": {
   "interpreter": {
    "hash": "8c56f9b01b837c1fecf7da9bf1cb4aaeedce7f0b5fa18cc6045e524d8322801e"
   }
  }
 },
 "nbformat": 4,
 "nbformat_minor": 2
}
